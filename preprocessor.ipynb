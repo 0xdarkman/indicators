{
 "cells": [
  {
   "cell_type": "code",
   "execution_count": 1,
   "metadata": {},
   "outputs": [
    {
     "name": "stderr",
     "output_type": "stream",
     "text": [
      "/opt/miniconda3/envs/indicators/lib/python3.7/site-packages/mpl_finance.py:22: DeprecationWarning: \n",
      "\n",
      "  =================================================================\n",
      "\n",
      "   WARNING: `mpl_finance` is deprecated:\n",
      "\n",
      "    Please use `mplfinance` instead (no hyphen, no underscore).\n",
      "\n",
      "    To install: `pip install --upgrade mplfinance` \n",
      "\n",
      "   For more information, see: https://pypi.org/project/mplfinance/\n",
      "\n",
      "  =================================================================\n",
      "\n",
      "  category=DeprecationWarning)\n"
     ]
    }
   ],
   "source": [
    "%matplotlib inline\n",
    "%pylab inline\n",
    "import matplotlib.pyplot as plt\n",
    "import mpl_finance as mpf\n",
    "\n",
    "import os\n",
    "import pandas as pd\n",
    "import sys\n",
    "import talib\n",
    "\n",
    "from datetime import datetime, timedelta\n",
    "from mplfinance.original_flavor import candlestick_ohlc as candlestick\n",
    "from sklearn.preprocessing import MinMaxScaler"
   ]
  },
  {
   "cell_type": "markdown",
   "metadata": {},
   "source": [
    "#### util: file_path"
   ]
  },
  {
   "cell_type": "code",
   "execution_count": 2,
   "metadata": {},
   "outputs": [],
   "source": [
    "class PathChecker:\n",
    "    def __init__(self, symbol=\"BTC\", tick='1h'):\n",
    "        self.__data_path = \"./dataset\"\n",
    "        self.__check_dir(data_path = self.__data_path)\n",
    "        self.__symbol = symbol\n",
    "        self.__tick = tick\n",
    "        self.file_path = self.__get_path(self.__symbol, self.__tick, self.__data_path)\n",
    "        \n",
    "    @staticmethod\n",
    "    def __check_dir(data_path):\n",
    "        if not os.path.exists(data_path):\n",
    "            os.mkdir(data_path) \n",
    "    \n",
    "    @staticmethod\n",
    "    def __get_path(symbol, tick, data_path):\n",
    "        date = datetime.today().strftime(\"%Y-%m-%d\").replace('-', '')\n",
    "        filename = symbol + '_' + tick + '_' + date + \".csv\"\n",
    "        return os.path.join(data_path, filename)"
   ]
  },
  {
   "cell_type": "markdown",
   "metadata": {},
   "source": [
    "# get_data (default 'BTC')"
   ]
  },
  {
   "cell_type": "code",
   "execution_count": 3,
   "metadata": {},
   "outputs": [],
   "source": [
    "file_path = PathChecker().file_path\n",
    "df = pd.read_csv(file_path)\n",
    "df[\"Date\"] = df[\"Date\"].apply(lambda x: datetime.strptime(x, '%Y-%m-%d %I-%p').strftime('%Y-%m-%d %H:%M:%S'))\n",
    "df[\"Date\"] = df[\"Date\"].apply(lambda x: pd.to_datetime(x))\n",
    "df = df.sort_values(by=[\"Date\"], ascending=True)\n",
    "df = df.set_index(\"Date\", inplace=False)"
   ]
  },
  {
   "cell_type": "code",
   "execution_count": null,
   "metadata": {},
   "outputs": [],
   "source": []
  },
  {
   "cell_type": "markdown",
   "metadata": {},
   "source": [
    "# indicators"
   ]
  },
  {
   "cell_type": "code",
   "execution_count": 4,
   "metadata": {},
   "outputs": [],
   "source": [
    "df['sma_short'] = talib.SMA(df['Close'].values, 7)\n",
    "df['sma_long'] = talib.SMA(df['Close'].values, 14)\n",
    "df['ema_short'] = talib.SMA(df['Close'].values, 3)\n",
    "df['ema_long'] = talib.SMA(df['Close'].values, 5)\n",
    "df['K'], df['D'] = talib.STOCH(df['High'], df['Low'], df['Close'])\n",
    "df['RSI_5'] = talib.RSI(df['Close'], 5)\n",
    "df['RSI_10'] = talib.RSI(df['Close'], 10)\n",
    "df['Upper'], df['Middle'], df['Lower'] = talib.BBANDS(df['Close'], timeperiod=10, nbdevup=2, nbdevdn=2)\n",
    "df['MACD'] = talib.MACD(df['Close'], fastperiod=12, slowperiod=26, signalperiod=9)[0]\n",
    "df['OBV'] = talib.OBV(df['Close'], df.iloc[:, -2])\n",
    "df['AROON Down'], df['AROON Up'] = talib.AROON(df['High'], df['Low'], timeperiod=7)"
   ]
  },
  {
   "cell_type": "markdown",
   "metadata": {},
   "source": [
    "# Train / Test split"
   ]
  },
  {
   "cell_type": "code",
   "execution_count": 5,
   "metadata": {},
   "outputs": [],
   "source": [
    "def slice_date(df, start_date=None, end_date=None):\n",
    "    # Pass if start_time, end_time are not set\n",
    "    if start_date == None:\n",
    "        start_date = df.index[0]\n",
    "    if end_date == None:\n",
    "        end_date = df.index[-1]\n",
    "    # Slice data into time interval\n",
    "    df = df[(df.index >= start_date) & (df.index <= end_date)]\n",
    "    return df"
   ]
  },
  {
   "cell_type": "code",
   "execution_count": 6,
   "metadata": {},
   "outputs": [],
   "source": [
    "df_train = slice_date(df, \"2017-01-01\", \"2018-12-31\")"
   ]
  },
  {
   "cell_type": "code",
   "execution_count": 7,
   "metadata": {},
   "outputs": [],
   "source": [
    "test_length = \"week\" # \"year\", \"half-year\", \"month\", \"week\"\n",
    "\n",
    "if test_length == \"year\":\n",
    "    df_test = slice_date(df, \"2019-01-01\", \"2019-12-31\")\n",
    "elif test_length == \"half-year\":\n",
    "    df_test = slice_date(df, \"2019-07-01\", \"2019-12-31\")\n",
    "elif test_length == \"month\":\n",
    "    df_test = slice_date(df, \"2019-12-01\", \"2019-12-31\")\n",
    "elif test_length == \"week\":\n",
    "    df_test = slice_date(df, \"2019-12-25\", \"2019-12-31\")"
   ]
  },
  {
   "cell_type": "code",
   "execution_count": 8,
   "metadata": {},
   "outputs": [],
   "source": [
    "chosen_features = ['ema_short', 'ema_long', 'K', 'D', 'RSI_5', 'RSI_10', 'Upper', 'Middle', 'Lower', 'MACD', 'OBV', 'AROON Down', 'AROON Up', 'Close']\n",
    "# chosen_features = ['ema_short', 'ema_long', 'K', 'D', 'Close']"
   ]
  },
  {
   "cell_type": "code",
   "execution_count": 9,
   "metadata": {},
   "outputs": [
    {
     "name": "stderr",
     "output_type": "stream",
     "text": [
      "/opt/miniconda3/envs/indicators/lib/python3.7/site-packages/pandas/core/frame.py:4153: SettingWithCopyWarning: \n",
      "A value is trying to be set on a copy of a slice from a DataFrame\n",
      "\n",
      "See the caveats in the documentation: https://pandas.pydata.org/pandas-docs/stable/user_guide/indexing.html#returning-a-view-versus-a-copy\n",
      "  downcast=downcast,\n"
     ]
    }
   ],
   "source": [
    "train_features = df_train[chosen_features]\n",
    "train_features.fillna(0, inplace=True)\n",
    "test_features = df_test[chosen_features]\n",
    "test_features.fillna(0, inplace=True)"
   ]
  },
  {
   "cell_type": "code",
   "execution_count": 10,
   "metadata": {},
   "outputs": [],
   "source": [
    "def normalize(train, test):\n",
    "    minmax_sc = MinMaxScaler()\n",
    "    train_norm = pd.DataFrame(minmax_sc.fit_transform(train),\n",
    "                              columns=train.columns,\n",
    "                              index=train.index)\n",
    "    test_norm = pd.DataFrame(minmax_sc.transform(test),\n",
    "                             columns=test.columns,\n",
    "                             index=test.index)\n",
    "    return train_norm, test_norm, minmax_sc"
   ]
  },
  {
   "cell_type": "code",
   "execution_count": 11,
   "metadata": {},
   "outputs": [],
   "source": [
    "train_norm, test_norm, sc = normalize(train_features, test_features)"
   ]
  },
  {
   "cell_type": "code",
   "execution_count": 12,
   "metadata": {},
   "outputs": [],
   "source": [
    "pd.plotting.register_matplotlib_converters()"
   ]
  },
  {
   "cell_type": "code",
   "execution_count": 13,
   "metadata": {},
   "outputs": [
    {
     "data": {
      "text/plain": [
       "<Figure size 2160x2520 with 0 Axes>"
      ]
     },
     "metadata": {},
     "output_type": "display_data"
    }
   ],
   "source": [
    "fig = plt.figure(figsize=(30, 35))"
   ]
  },
  {
   "cell_type": "code",
   "execution_count": 14,
   "metadata": {},
   "outputs": [
    {
     "data": {
      "text/plain": [
       "Index(['2019-12-25', '2019-12-25', '2019-12-25', '2019-12-25', '2019-12-25',\n",
       "       '2019-12-25', '2019-12-25', '2019-12-25', '2019-12-25', '2019-12-25',\n",
       "       ...\n",
       "       '2019-12-30', '2019-12-30', '2019-12-30', '2019-12-30', '2019-12-30',\n",
       "       '2019-12-30', '2019-12-30', '2019-12-30', '2019-12-30', '2019-12-31'],\n",
       "      dtype='object', name='Date', length=145)"
      ]
     },
     "execution_count": 14,
     "metadata": {},
     "output_type": "execute_result"
    }
   ],
   "source": [
    "Select = df_test\n",
    "df_test.index.strftime('%Y-%m-%d')"
   ]
  },
  {
   "cell_type": "code",
   "execution_count": 15,
   "metadata": {},
   "outputs": [
    {
     "data": {
      "text/plain": [
       "(<matplotlib.collections.LineCollection at 0x133e57ad0>,\n",
       " <matplotlib.collections.PolyCollection at 0x133e57bd0>)"
      ]
     },
     "execution_count": 15,
     "metadata": {},
     "output_type": "execute_result"
    }
   ],
   "source": [
    "ax1 = fig.add_axes([0.05,0.45,0.9,0.45])\n",
    "ax2 = fig.add_axes([0.05,0.30,0.9,0.15])\n",
    "ax3 = fig.add_axes([0.05,0.05,0.9,0.25])\n",
    "\n",
    "mpf.candlestick2_ochl(ax1, Select['Open'], Select['Close'], Select['High'],\n",
    "                      Select['Low'], width=0.6, colorup='r', colordown='g', alpha=0.75)"
   ]
  },
  {
   "cell_type": "code",
   "execution_count": 16,
   "metadata": {},
   "outputs": [
    {
     "data": {
      "text/plain": [
       "(6397.587, 8206.792000000001)"
      ]
     },
     "execution_count": 16,
     "metadata": {},
     "output_type": "execute_result"
    }
   ],
   "source": [
    "ax1.plot(Select['sma_short'], label='MA short')\n",
    "ax1.plot(Select['sma_long'], label='MA long')\n",
    "ax1.legend()\n",
    "ax1.autoscale()\n",
    "ax1.set_ylim((Select['Close'].min()*0.9, Select['Close'].max()*1.1))"
   ]
  },
  {
   "cell_type": "code",
   "execution_count": 17,
   "metadata": {},
   "outputs": [
    {
     "data": {
      "text/plain": [
       "<matplotlib.legend.Legend at 0x133e92f50>"
      ]
     },
     "execution_count": 17,
     "metadata": {},
     "output_type": "execute_result"
    }
   ],
   "source": [
    "# b.) KD line chart.\n",
    "ax2.plot(Select['K'], label='K')\n",
    "ax2.plot(Select['D'], label='D')\n",
    "ax2.legend()"
   ]
  },
  {
   "cell_type": "code",
   "execution_count": 18,
   "metadata": {},
   "outputs": [
    {
     "data": {
      "text/plain": [
       "[Text(0, 0, '2019-12-25 00:00:00'),\n",
       " Text(0, 0, '2019-12-25 20:00:00'),\n",
       " Text(0, 0, '2019-12-26 16:00:00'),\n",
       " Text(0, 0, '2019-12-27 12:00:00'),\n",
       " Text(0, 0, '2019-12-28 08:00:00'),\n",
       " Text(0, 0, '2019-12-29 04:00:00'),\n",
       " Text(0, 0, '2019-12-30 00:00:00'),\n",
       " Text(0, 0, '2019-12-30 20:00:00')]"
      ]
     },
     "execution_count": 18,
     "metadata": {},
     "output_type": "execute_result"
    }
   ],
   "source": [
    "# c.) Volume bar chart.\n",
    "mpf.volume_overlay(ax3, Select['Open'], Select['Close'], Select['Volume %s' % \"BTC\"],\n",
    "                   colorup='r', colordown='g', width=0.5, alpha=0.8)\n",
    "\n",
    "ax3.set_xticks(range(0, len(Select.index), 20))\n",
    "ax3.set_xticklabels(Select.index[::20])"
   ]
  },
  {
   "cell_type": "code",
   "execution_count": null,
   "metadata": {},
   "outputs": [],
   "source": []
  },
  {
   "cell_type": "code",
   "execution_count": null,
   "metadata": {},
   "outputs": [],
   "source": []
  },
  {
   "cell_type": "code",
   "execution_count": 22,
   "metadata": {},
   "outputs": [],
   "source": [
    "plt.clf()\n",
    "plt.close()"
   ]
  },
  {
   "cell_type": "code",
   "execution_count": 23,
   "metadata": {},
   "outputs": [
    {
     "name": "stdout",
     "output_type": "stream",
     "text": [
      "(13142, 22)\n",
      "(145, 22)\n",
      "(13142, 14)\n",
      "(145, 14)\n"
     ]
    }
   ],
   "source": [
    "print(df_train.shape)\n",
    "print(df_test.shape)\n",
    "print(train_norm.shape)\n",
    "print(test_norm.shape)"
   ]
  },
  {
   "cell_type": "code",
   "execution_count": null,
   "metadata": {},
   "outputs": [],
   "source": []
  }
 ],
 "metadata": {
  "kernelspec": {
   "display_name": "indicators",
   "language": "python",
   "name": "indicators"
  },
  "language_info": {
   "codemirror_mode": {
    "name": "ipython",
    "version": 3
   },
   "file_extension": ".py",
   "mimetype": "text/x-python",
   "name": "python",
   "nbconvert_exporter": "python",
   "pygments_lexer": "ipython3",
   "version": "3.7.7"
  }
 },
 "nbformat": 4,
 "nbformat_minor": 4
}
