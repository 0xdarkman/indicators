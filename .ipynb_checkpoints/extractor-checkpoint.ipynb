{
 "cells": [
  {
   "cell_type": "code",
   "execution_count": 4,
   "metadata": {},
   "outputs": [],
   "source": [
    "import os\n",
    "import re\n",
    "import requests\n",
    "import sys\n",
    "\n",
    "from datetime import datetime, timedelta"
   ]
  },
  {
   "cell_type": "code",
   "execution_count": 22,
   "metadata": {},
   "outputs": [],
   "source": [
    "SYMBOL = \"LTC\" #BTC, ETH, LTC\n",
    "TICK = \"1h\" # 1h, d"
   ]
  },
  {
   "cell_type": "code",
   "execution_count": 35,
   "metadata": {},
   "outputs": [],
   "source": [
    "class Downloader:\n",
    "    def __init__(self, symbol=\"BTC\", tick='1h'):\n",
    "        self.__check_dir()\n",
    "        self.download_data(symbol, tick, file_path=self.__get_path(symbol, tick))\n",
    "        \n",
    "    @staticmethod\n",
    "    def __check_dir():\n",
    "        data_path = \"./dataset\"\n",
    "        if not os.path.exists(data_path):\n",
    "            os.mkdir(data_path) \n",
    "    \n",
    "    @staticmethod\n",
    "    def __get_path(symbol, tick):\n",
    "        date = datetime.today().strftime(\"%Y-%m-%d\").replace('-', '')\n",
    "        filename = symbol + '_' + tick + '_' + date + \".csv\"\n",
    "        return os.path.join(data_path, filename)\n",
    "    \n",
    "    @staticmethod\n",
    "    def __check_file_path(file_path):\n",
    "        if os.path.isfile(file_path):\n",
    "            print(file_path + \" was already Downloaded!\")\n",
    "            return False\n",
    "        else:\n",
    "            return True\n",
    "    \n",
    "    @staticmethod\n",
    "    def __get_and_save_data(symbol, tick, file_path):\n",
    "        url = f'https://www.cryptodatadownload.com/cdd/Coinbase_{symbol}USD_{tick}.csv'\n",
    "        raw_text = requests.get(url, verify=False).text\n",
    "        raw_text = re.sub(r\".+?(?=\\r\\nDate)\", '', raw_text)[2:]\n",
    "\n",
    "        with open(file_path, 'w') as text_file:\n",
    "            text_file.write(raw_text)\n",
    "        print(f\"{symbol} downloaded\")\n",
    "                \n",
    "    def download_data(self, symbol, tick, file_path):\n",
    "        if self.__check_file_path(file_path):\n",
    "            self.__get_and_save_data(symbol, tick, file_path)"
   ]
  },
  {
   "cell_type": "code",
   "execution_count": 37,
   "metadata": {},
   "outputs": [
    {
     "name": "stderr",
     "output_type": "stream",
     "text": [
      "/opt/miniconda3/envs/indicators/lib/python3.7/site-packages/urllib3/connectionpool.py:986: InsecureRequestWarning: Unverified HTTPS request is being made to host 'www.cryptodatadownload.com'. Adding certificate verification is strongly advised. See: https://urllib3.readthedocs.io/en/latest/advanced-usage.html#ssl-warnings\n",
      "  InsecureRequestWarning,\n"
     ]
    },
    {
     "name": "stdout",
     "output_type": "stream",
     "text": [
      "BTC downloaded\n"
     ]
    },
    {
     "name": "stderr",
     "output_type": "stream",
     "text": [
      "/opt/miniconda3/envs/indicators/lib/python3.7/site-packages/urllib3/connectionpool.py:986: InsecureRequestWarning: Unverified HTTPS request is being made to host 'www.cryptodatadownload.com'. Adding certificate verification is strongly advised. See: https://urllib3.readthedocs.io/en/latest/advanced-usage.html#ssl-warnings\n",
      "  InsecureRequestWarning,\n"
     ]
    },
    {
     "name": "stdout",
     "output_type": "stream",
     "text": [
      "ETH downloaded\n",
      "./dataset/LTC_1h_20200715.csv was already Downloaded!\n"
     ]
    },
    {
     "data": {
      "text/plain": [
       "[<__main__.Downloader at 0x10b4f4b50>,\n",
       " <__main__.Downloader at 0x10ae46e90>,\n",
       " <__main__.Downloader at 0x10b503d90>]"
      ]
     },
     "execution_count": 37,
     "metadata": {},
     "output_type": "execute_result"
    }
   ],
   "source": [
    "list(map(lambda x: Downloader(symbol=x), [\"BTC\", \"ETH\", \"LTC\"]))"
   ]
  },
  {
   "cell_type": "code",
   "execution_count": 18,
   "metadata": {},
   "outputs": [],
   "source": []
  },
  {
   "cell_type": "code",
   "execution_count": 19,
   "metadata": {},
   "outputs": [],
   "source": []
  },
  {
   "cell_type": "code",
   "execution_count": null,
   "metadata": {},
   "outputs": [],
   "source": []
  },
  {
   "cell_type": "code",
   "execution_count": 20,
   "metadata": {},
   "outputs": [],
   "source": []
  },
  {
   "cell_type": "code",
   "execution_count": 21,
   "metadata": {},
   "outputs": [
    {
     "name": "stdout",
     "output_type": "stream",
     "text": [
      "Retrieving Data...\n"
     ]
    },
    {
     "name": "stderr",
     "output_type": "stream",
     "text": [
      "/opt/miniconda3/envs/indicators/lib/python3.7/site-packages/urllib3/connectionpool.py:986: InsecureRequestWarning: Unverified HTTPS request is being made to host 'www.cryptodatadownload.com'. Adding certificate verification is strongly advised. See: https://urllib3.readthedocs.io/en/latest/advanced-usage.html#ssl-warnings\n",
      "  InsecureRequestWarning,\n"
     ]
    }
   ],
   "source": [
    "download_data()"
   ]
  },
  {
   "cell_type": "code",
   "execution_count": null,
   "metadata": {},
   "outputs": [],
   "source": []
  }
 ],
 "metadata": {
  "kernelspec": {
   "display_name": "indicators",
   "language": "python",
   "name": "indicators"
  },
  "language_info": {
   "codemirror_mode": {
    "name": "ipython",
    "version": 3
   },
   "file_extension": ".py",
   "mimetype": "text/x-python",
   "name": "python",
   "nbconvert_exporter": "python",
   "pygments_lexer": "ipython3",
   "version": "3.7.7"
  }
 },
 "nbformat": 4,
 "nbformat_minor": 4
}
