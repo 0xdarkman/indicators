{
 "cells": [
  {
   "cell_type": "code",
   "execution_count": 2,
   "metadata": {},
   "outputs": [
    {
     "name": "stdout",
     "output_type": "stream",
     "text": [
      "Populating the interactive namespace from numpy and matplotlib\n"
     ]
    }
   ],
   "source": [
    "%matplotlib inline\n",
    "import datetime as dt\n",
    "import matplotlib.pyplot as plt\n",
    "import pandas as pd\n",
    "import pandas_ta as ta\n",
    "%pylab inline"
   ]
  },
  {
   "cell_type": "code",
   "execution_count": 3,
   "metadata": {},
   "outputs": [],
   "source": [
    "df = pd.read_pickle(\"data/btcusd_4h.pkl\")\n",
    "df.columns  = [x.lower() for x in df.columns.tolist()]"
   ]
  },
  {
   "cell_type": "code",
   "execution_count": 8,
   "metadata": {},
   "outputs": [],
   "source": [
    "df.name = \"BTCUSD\""
   ]
  },
  {
   "cell_type": "code",
   "execution_count": 14,
   "metadata": {},
   "outputs": [],
   "source": [
    "def ctitle(indicator_name, ticker='BTCUSD', length=100):\n",
    "    return f\"{ticker}: {indicator_name} from {recent_startdate} to {recent_startdate} ({length})\""
   ]
  },
  {
   "cell_type": "code",
   "execution_count": 4,
   "metadata": {},
   "outputs": [],
   "source": [
    "price_size = (16, 8)\n",
    "ind_size = (16, 2)\n",
    "ticker = 'BTC'\n",
    "recent = 126\n",
    "half_of_recent = int(0.5 * recent)"
   ]
  },
  {
   "cell_type": "code",
   "execution_count": 5,
   "metadata": {},
   "outputs": [],
   "source": [
    "last_ = df.shape[0]"
   ]
  },
  {
   "cell_type": "code",
   "execution_count": 6,
   "metadata": {},
   "outputs": [],
   "source": [
    "recent_startdate = df.tail(recent).index[0]\n",
    "recent_enddate = df.tail(recent).index[-1]"
   ]
  },
  {
   "cell_type": "code",
   "execution_count": 9,
   "metadata": {},
   "outputs": [
    {
     "name": "stdout",
     "output_type": "stream",
     "text": [
      "BTCUSD(9865, 5) from 2020-03-19 04:00:00 to 2020-04-09 00:00:00\n",
      "               open          high           low         close       volume\n",
      "count   9865.000000   9865.000000   9865.000000   9865.000000  9865.000000\n",
      "mean    4819.660256   4876.866946   4756.385196   4820.376987   158.415493\n",
      "std     3926.119636   3984.792911   3857.853140   3925.928896   233.410646\n",
      "min      243.600000    243.600000    236.000000    243.600000     0.000000\n",
      "25%      741.510000    745.500000    738.600000    741.740000    27.555492\n",
      "50%     4141.710000   4197.840000   4085.490000   4143.790000    80.077458\n",
      "75%     7909.980000   7991.670000   7800.150000   7909.980000   194.391764\n",
      "max    19869.860000  19999.000000  19500.000000  19869.860000  4355.328552\n"
     ]
    }
   ],
   "source": [
    "print(f\"{df.name}{df.shape} from {recent_startdate} to {recent_enddate}\\n{df.describe()}\")"
   ]
  },
  {
   "cell_type": "code",
   "execution_count": 10,
   "metadata": {},
   "outputs": [],
   "source": [
    "opendf = df['open']\n",
    "closedf = df['close']\n",
    "volumedf = df['volume']"
   ]
  },
  {
   "cell_type": "code",
   "execution_count": 11,
   "metadata": {},
   "outputs": [
    {
     "name": "stdout",
     "output_type": "stream",
     "text": [
      "Help on method constants in module pandas_ta.core:\n",
      "\n",
      "constants(append, lower_bound=-100, upper_bound=100, every=1) method of pandas_ta.core.AnalysisIndicators instance\n",
      "    Constants\n",
      "    \n",
      "    Useful for creating indicator levels or if you need some constant value\n",
      "    easily added to your DataFrame.\n",
      "    \n",
      "    Add constant '1' to the DataFrame\n",
      "    >>> df.ta.constants(True, 1, 1, 1)\n",
      "    Remove constant '1' to the DataFrame\n",
      "    >>> df.ta.constants(False, 1, 1, 1)\n",
      "    \n",
      "    Adding constants that range of constants from -4 to 4 inclusive\n",
      "    >>> df.ta.constants(True, -4, 4, 1)\n",
      "    Removing constants that range of constants from -4 to 4 inclusive\n",
      "    >>> df.ta.constants(False, -4, 4, 1)\n",
      "    \n",
      "    Args:\n",
      "        append (bool): Default: None.  If True, appends the range of constants to the\n",
      "            working DataFrame.  If False, it removes the constant range from the working\n",
      "            DataFrame.\n",
      "        lower_bound (int): Default: -100.  Lowest integer for the constant range.\n",
      "        upper_bound (int): Default: 100.  Largest integer for the constant range.\n",
      "        every (int): Default: 10.  How often to include a new constant.\n",
      "    \n",
      "    Returns:\n",
      "        Returns nothing to the user.  Either adds or removes constant ranges from the\n",
      "        working DataFrame.\n",
      "\n"
     ]
    },
    {
     "data": {
      "text/html": [
       "<div>\n",
       "<style scoped>\n",
       "    .dataframe tbody tr th:only-of-type {\n",
       "        vertical-align: middle;\n",
       "    }\n",
       "\n",
       "    .dataframe tbody tr th {\n",
       "        vertical-align: top;\n",
       "    }\n",
       "\n",
       "    .dataframe thead th {\n",
       "        text-align: right;\n",
       "    }\n",
       "</style>\n",
       "<table border=\"1\" class=\"dataframe\">\n",
       "  <thead>\n",
       "    <tr style=\"text-align: right;\">\n",
       "      <th></th>\n",
       "      <th>open</th>\n",
       "      <th>high</th>\n",
       "      <th>low</th>\n",
       "      <th>close</th>\n",
       "      <th>volume</th>\n",
       "      <th>-4</th>\n",
       "      <th>-3</th>\n",
       "      <th>-2</th>\n",
       "      <th>-1</th>\n",
       "      <th>0</th>\n",
       "      <th>1</th>\n",
       "      <th>2</th>\n",
       "      <th>3</th>\n",
       "      <th>4</th>\n",
       "    </tr>\n",
       "    <tr>\n",
       "      <th>Date</th>\n",
       "      <th></th>\n",
       "      <th></th>\n",
       "      <th></th>\n",
       "      <th></th>\n",
       "      <th></th>\n",
       "      <th></th>\n",
       "      <th></th>\n",
       "      <th></th>\n",
       "      <th></th>\n",
       "      <th></th>\n",
       "      <th></th>\n",
       "      <th></th>\n",
       "      <th></th>\n",
       "      <th></th>\n",
       "    </tr>\n",
       "  </thead>\n",
       "  <tbody>\n",
       "    <tr>\n",
       "      <th>2020-04-08 08:00:00</th>\n",
       "      <td>7323.36</td>\n",
       "      <td>7356.72</td>\n",
       "      <td>7221.54</td>\n",
       "      <td>7295.80</td>\n",
       "      <td>56.911926</td>\n",
       "      <td>-4</td>\n",
       "      <td>-3</td>\n",
       "      <td>-2</td>\n",
       "      <td>-1</td>\n",
       "      <td>0</td>\n",
       "      <td>1</td>\n",
       "      <td>2</td>\n",
       "      <td>3</td>\n",
       "      <td>4</td>\n",
       "    </tr>\n",
       "    <tr>\n",
       "      <th>2020-04-08 12:00:00</th>\n",
       "      <td>7295.80</td>\n",
       "      <td>7350.88</td>\n",
       "      <td>7207.50</td>\n",
       "      <td>7283.45</td>\n",
       "      <td>139.221945</td>\n",
       "      <td>-4</td>\n",
       "      <td>-3</td>\n",
       "      <td>-2</td>\n",
       "      <td>-1</td>\n",
       "      <td>0</td>\n",
       "      <td>1</td>\n",
       "      <td>2</td>\n",
       "      <td>3</td>\n",
       "      <td>4</td>\n",
       "    </tr>\n",
       "    <tr>\n",
       "      <th>2020-04-08 16:00:00</th>\n",
       "      <td>7283.45</td>\n",
       "      <td>7364.49</td>\n",
       "      <td>7261.61</td>\n",
       "      <td>7320.11</td>\n",
       "      <td>194.391764</td>\n",
       "      <td>-4</td>\n",
       "      <td>-3</td>\n",
       "      <td>-2</td>\n",
       "      <td>-1</td>\n",
       "      <td>0</td>\n",
       "      <td>1</td>\n",
       "      <td>2</td>\n",
       "      <td>3</td>\n",
       "      <td>4</td>\n",
       "    </tr>\n",
       "    <tr>\n",
       "      <th>2020-04-08 20:00:00</th>\n",
       "      <td>7320.11</td>\n",
       "      <td>7398.92</td>\n",
       "      <td>7311.33</td>\n",
       "      <td>7369.60</td>\n",
       "      <td>86.062941</td>\n",
       "      <td>-4</td>\n",
       "      <td>-3</td>\n",
       "      <td>-2</td>\n",
       "      <td>-1</td>\n",
       "      <td>0</td>\n",
       "      <td>1</td>\n",
       "      <td>2</td>\n",
       "      <td>3</td>\n",
       "      <td>4</td>\n",
       "    </tr>\n",
       "    <tr>\n",
       "      <th>2020-04-09 00:00:00</th>\n",
       "      <td>7369.60</td>\n",
       "      <td>7369.60</td>\n",
       "      <td>7338.23</td>\n",
       "      <td>7338.23</td>\n",
       "      <td>7.788915</td>\n",
       "      <td>-4</td>\n",
       "      <td>-3</td>\n",
       "      <td>-2</td>\n",
       "      <td>-1</td>\n",
       "      <td>0</td>\n",
       "      <td>1</td>\n",
       "      <td>2</td>\n",
       "      <td>3</td>\n",
       "      <td>4</td>\n",
       "    </tr>\n",
       "  </tbody>\n",
       "</table>\n",
       "</div>"
      ],
      "text/plain": [
       "                        open     high      low    close      volume  -4  -3  \\\n",
       "Date                                                                          \n",
       "2020-04-08 08:00:00  7323.36  7356.72  7221.54  7295.80   56.911926  -4  -3   \n",
       "2020-04-08 12:00:00  7295.80  7350.88  7207.50  7283.45  139.221945  -4  -3   \n",
       "2020-04-08 16:00:00  7283.45  7364.49  7261.61  7320.11  194.391764  -4  -3   \n",
       "2020-04-08 20:00:00  7320.11  7398.92  7311.33  7369.60   86.062941  -4  -3   \n",
       "2020-04-09 00:00:00  7369.60  7369.60  7338.23  7338.23    7.788915  -4  -3   \n",
       "\n",
       "                     -2  -1  0  1  2  3  4  \n",
       "Date                                        \n",
       "2020-04-08 08:00:00  -2  -1  0  1  2  3  4  \n",
       "2020-04-08 12:00:00  -2  -1  0  1  2  3  4  \n",
       "2020-04-08 16:00:00  -2  -1  0  1  2  3  4  \n",
       "2020-04-08 20:00:00  -2  -1  0  1  2  3  4  \n",
       "2020-04-09 00:00:00  -2  -1  0  1  2  3  4  "
      ]
     },
     "execution_count": 11,
     "metadata": {},
     "output_type": "execute_result"
    }
   ],
   "source": [
    "help(df.ta.constants) # for more info\n",
    "df.ta.constants(True, -4, 4)\n",
    "df.tail()"
   ]
  },
  {
   "cell_type": "code",
   "execution_count": 12,
   "metadata": {},
   "outputs": [],
   "source": [
    "def cscheme(colors):\n",
    "    aliases = {\n",
    "        'BkBu': ['black', 'blue'],\n",
    "        'gr': ['green', 'red'],\n",
    "        'grays': ['silver', 'gray'],\n",
    "        'mas': ['black', 'green', 'orange', 'red'],\n",
    "    }\n",
    "    aliases['default'] = aliases['gr']\n",
    "    return aliases[colors]\n",
    "\n",
    "def machart(kind, fast, medium, slow, append=True, last=last_, figsize=price_size, colors=cscheme('mas')):\n",
    "    title = ctitle(f\"{kind.upper()}s\", ticker=ticker, length=last)\n",
    "    ma1 = df.ta(kind=kind, length=fast, append=append)\n",
    "    ma2 = df.ta(kind=kind, length=medium, append=append)\n",
    "    ma3 = df.ta(kind=kind, length=slow, append=append)\n",
    "    \n",
    "    madf = pd.concat([closedf, df[[ma1.name, ma2.name, ma3.name]]], axis=1, sort=False).tail(last)\n",
    "    madf.plot(figsize=figsize, title=title, color=colors, grid=True)    \n",
    "\n",
    "def volumechart(kind, length=10, last=last_, figsize=ind_size, alpha=0.7, colors=cscheme('gr'), rot=None):\n",
    "    title = ctitle(\"Volume\", ticker=ticker, length=last)\n",
    "    volume = pd.DataFrame({'V+': volumedf[closedf > opendf], 'V-': volumedf[closedf < opendf]}).tail(last)\n",
    "    \n",
    "    volume.plot(kind='bar', figsize=(figsize[0], 2), width=0.5, color=colors, alpha=alpha, stacked=True, rot=rot)\n",
    "    vadf = df.ta(kind=kind, close=volumedf, length=length).tail(last)\n",
    "    vadf.plot(figsize=(figsize[0], 2), lw=1.4, color='black', title=title, grid=True, rot=rot)\n",
    "    \n",
    "    \n",
    "def vadfchart(kind, length=10, last=last_, figsize=ind_size, alpha=0.7, colors=cscheme('gr'), rot=None):\n",
    "    title = ctitle(\"Volume\", ticker=ticker, length=last)\n",
    "    volume = pd.DataFrame({'V+': volumedf[closedf > opendf], 'V-': volumedf[closedf < opendf]}).tail(last)\n",
    "    \n",
    "    volume.plot(kind='bar', figsize=(figsize[0], 2), width=0.5, color=colors, alpha=alpha, stacked=True, rot=rot)\n",
    "    vadf = df.ta(kind=kind, close=volumedf, length=length).tail(last)\n",
    "    vadf.plot(figsize=(figsize[0], 2), lw=1.4, color='black', title=title, grid=True, rot=rot)"
   ]
  },
  {
   "cell_type": "code",
   "execution_count": 23,
   "metadata": {},
   "outputs": [
    {
     "data": {
      "image/png": "[encoded data removed]",
      "text/plain": [
       "<Figure size 1152x144 with 1 Axes>"
      ]
     },
     "metadata": {
      "needs_background": "light"
     },
     "output_type": "display_data"
    }
   ],
   "source": [
    "# machart('ema', 8, 21, 50, last=recent)\n",
    "volumechart('ema', last=recent, rot=90)"
   ]
  },
  {
   "cell_type": "code",
   "execution_count": 27,
   "metadata": {},
   "outputs": [],
   "source": [
    "vadf = df.ta(kind='ema', close=volumedf, length=10).tail(recent)"
   ]
  },
  {
   "cell_type": "code",
   "execution_count": 28,
   "metadata": {},
   "outputs": [
    {
     "data": {
      "text/plain": [
       "Date\n",
       "2020-03-19 04:00:00    239.700788\n",
       "2020-03-19 08:00:00    241.281000\n",
       "2020-03-19 12:00:00    299.689516\n",
       "2020-03-19 16:00:00    389.504368\n",
       "2020-03-19 20:00:00    367.671512\n",
       "                          ...    \n",
       "2020-04-08 08:00:00     90.482263\n",
       "2020-04-08 12:00:00     99.344023\n",
       "2020-04-08 16:00:00    116.625431\n",
       "2020-04-08 20:00:00    111.068615\n",
       "2020-04-09 00:00:00     92.290487\n",
       "Freq: 4H, Name: EMA_10, Length: 126, dtype: float64"
      ]
     },
     "execution_count": 28,
     "metadata": {},
     "output_type": "execute_result"
    }
   ],
   "source": [
    "vadf"
   ]
  },
  {
   "cell_type": "code",
   "execution_count": 31,
   "metadata": {},
   "outputs": [],
   "source": [
    "figsize = ind_size = (16, 2)"
   ]
  },
  {
   "cell_type": "code",
   "execution_count": 34,
   "metadata": {},
   "outputs": [],
   "source": [
    "volume = pd.DataFrame({'V+': volumedf[closedf > opendf], 'V-': volumedf[closedf < opendf]}).tail(recent)"
   ]
  },
  {
   "cell_type": "code",
   "execution_count": null,
   "metadata": {},
   "outputs": [],
   "source": []
  },
  {
   "cell_type": "code",
   "execution_count": 36,
   "metadata": {},
   "outputs": [
    {
     "data": {
      "text/plain": [
       "<matplotlib.axes._subplots.AxesSubplot at 0x123732ed0>"
      ]
     },
     "execution_count": 36,
     "metadata": {},
     "output_type": "execute_result"
    },
    {
     "data": {
      "image/png": "[encoded data removed]",
      "text/plain": [
       "<Figure size 1152x144 with 1 Axes>"
      ]
     },
     "metadata": {
      "needs_background": "light"
     },
     "output_type": "display_data"
    }
   ],
   "source": [
    "volume.plot(kind='bar', figsize=(figsize[0], 2), width=0.5, color=cscheme('gr'), alpha=0.7, stacked=True, rot=90)"
   ]
  },
  {
   "cell_type": "code",
   "execution_count": null,
   "metadata": {},
   "outputs": [],
   "source": []
  }
 ],
 "metadata": {
  "kernelspec": {
   "display_name": "indicators",
   "language": "python",
   "name": "indicators"
  },
  "language_info": {
   "codemirror_mode": {
    "name": "ipython",
    "version": 3
   },
   "file_extension": ".py",
   "mimetype": "text/x-python",
   "name": "python",
   "nbconvert_exporter": "python",
   "pygments_lexer": "ipython3",
   "version": "3.7.7"
  }
 },
 "nbformat": 4,
 "nbformat_minor": 4
}
